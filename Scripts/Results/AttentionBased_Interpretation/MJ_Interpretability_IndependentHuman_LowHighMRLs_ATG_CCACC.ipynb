{
 "cells": [
  {
   "cell_type": "code",
   "execution_count": 1,
   "metadata": {},
   "outputs": [],
   "source": [
    "import numpy as np\n",
    "import pandas as pd\n",
    "pd.set_option('display.max_rows', 500)\n",
    "pd.set_option('display.max_columns', 500)\n",
    "pd.set_option('display.width', 1000)\n",
    "\n",
    "from sklearn.datasets import load_digits\n",
    "from sklearn.model_selection import train_test_split\n",
    "from sklearn.preprocessing import StandardScaler\n",
    "\n",
    "import matplotlib.pyplot as plt\n",
    "plt.rcParams.update({'font.size': 7})\n",
    "import seaborn as sns\n",
    "import os\n",
    "from copy import deepcopy\n",
    "%matplotlib inline\n",
    "#sns.set(style='white', context='notebook', rc={'figure.figsize':(14,10)})\n",
    "#sns.set(font_scale=0.5)\n",
    "#plt.rcParams['font.family'] = 'arial.ttf'\n",
    "#sns.set(font='arial.ttf')\n",
    "\n",
    "from sklearn.ensemble import RandomForestRegressor\n",
    "import random\n",
    "import math\n",
    "import scipy.stats as stats\n",
    "import scipy.signal\n",
    "from scipy.stats import spearmanr, pearsonr\n",
    "from sklearn import preprocessing\n",
    "from tqdm import tqdm, trange\n",
    "import pickle\n",
    "from itertools import product\n",
    "from collections import OrderedDict\n",
    "import torch\n",
    "import torch.nn.functional as F\n",
    "seed = 1337\n",
    "random.seed(seed)\n",
    "np.random.seed(seed)\n",
    "import matplotlib as mpl\n",
    "import matplotlib\n",
    "import torch.nn as nn"
   ]
  },
  {
   "cell_type": "code",
   "execution_count": 2,
   "metadata": {},
   "outputs": [
    {
     "name": "stdout",
     "output_type": "stream",
     "text": [
      "Namespace(filename='./ESM2_finetuned/attentions_symm//UTR-LM/Sample/Embedding_Contacts/ESM2_finetuned/representations_bos/Finetuned_VaryLengthHumanAll_sequence__MJ7_seed1337_ESM2SISS_FS4.1.Independent.len100.1e-2.dr5_VaryLengthRandomTrain_sequence_utr__representations_bos.npz', ngrams=8, ratio=False)\n",
      "SHAP_8grams__MJ7_seed1337_ESM2SISS_FS4.1.Independent.len100.1e-2.dr5_VaryLengthRandomTrain_sequence_utr__representations_bos.npz\n"
     ]
    }
   ],
   "source": [
    "import argparse\n",
    "from argparse import Namespace\n",
    "from collections import Counter\n",
    "parser = argparse.ArgumentParser()\n",
    "\n",
    "parser.add_argument('--filename', type = str, default = './ESM2_finetuned/attentions_symm//UTR-LM/Sample/Embedding_Contacts/ESM2_finetuned/representations_bos/Finetuned_VaryLengthHumanAll_sequence__MJ7_seed1337_ESM2SISS_FS4.1.Independent.len100.1e-2.dr5_VaryLengthRandomTrain_sequence_utr__representations_bos.npz')\n",
    "parser.add_argument('--ngrams', type = int, default = 8)\n",
    "parser.add_argument('--ratio', action = 'store_true')\n",
    "args = parser.parse_args([])\n",
    "print(args)\n",
    "\n",
    "global obj_col, seed\n",
    "out_filename = f'SHAP_{args.ngrams}grams__' + '__'.join(args.filename.split('__')[1:3])\n",
    "print(out_filename)"
   ]
  },
  {
   "cell_type": "code",
   "execution_count": 3,
   "metadata": {},
   "outputs": [],
   "source": [
    "def r2(x,y):\n",
    "    slope, intercept, r_value, p_value, std_err = stats.linregress(x,y)\n",
    "    return r_value**2\n",
    "\n",
    "def performances(label, pred):\n",
    "    \n",
    "    r = r2(label, pred)\n",
    "    pearson_r = pearsonr(label, pred)[0]\n",
    "    sp_cor = spearmanr(label, pred)[0]\n",
    "    print(f'r-squared = {r:.4f} | pearson r = {pearson_r:.4f} | spearman R = {sp_cor:.4f}')\n",
    "            \n",
    "    return [r, pearson_r, sp_cor]"
   ]
  },
  {
   "cell_type": "code",
   "execution_count": 4,
   "metadata": {},
   "outputs": [],
   "source": [
    "def kmers_list(ngrams = 3):\n",
    "    kmers = list('AGCT')\n",
    "    for i in trange(1, ngrams):\n",
    "        kmers = [''.join(c) for c in list(product(kmers, 'AGCT'))]\n",
    "        print(f'{i+1}-mers: {len(kmers)}')\n",
    "    return kmers"
   ]
  },
  {
   "cell_type": "code",
   "execution_count": 5,
   "metadata": {},
   "outputs": [],
   "source": [
    "def generate_seqs_kmers_contacts_pd(data, kmers):\n",
    "    seqs_kmers_contacts_pd = pd.DataFrame()\n",
    "    i = 0\n",
    "    for seq, attention_contacts in tqdm(zip(data['sequences'], data[obj_col])):\n",
    "        seq = seq.replace('<pad>', '')\n",
    "        attention_contacts = attention_contacts[:len(seq), :len(seq)]\n",
    "\n",
    "        if args.ratio:\n",
    "            attention_contrib_ratio = F.softmax(torch.Tensor(attention_contacts), dim = 0) # 列相加=1\n",
    "            seq_contrib_ratio = np.array(attention_contrib_ratio.sum(axis = 1))\n",
    "\n",
    "            temp_dict = create_ngram_list(seq, len(kmers[0]), seq_contrib_ratio, kmers)\n",
    "        else:\n",
    "            seq_contact_scores = attention_contacts.sum(axis = 1)\n",
    "\n",
    "            temp_dict = create_ngram_list(seq, len(kmers[0]), seq_contact_scores, kmers)\n",
    "\n",
    "        if i == 0: \n",
    "            seq_kmers_dict = deepcopy(temp_dict)\n",
    "            i += 1\n",
    "        else:\n",
    "            seq_kmers_dict = dict(Counter(seq_kmers_dict) + Counter(temp_dict))\n",
    "    \n",
    "    return seq_kmers_dict"
   ]
  },
  {
   "cell_type": "code",
   "execution_count": 6,
   "metadata": {},
   "outputs": [],
   "source": [
    "def create_ngram_list(seq, ngrams, contact_scores, kmers_list):\n",
    "    kmers_dict = OrderedDict(zip(kmers_list, [0]*len(kmers_list)))\n",
    "    \n",
    "    if len(seq) >= ngrams:\n",
    "        mer = zip(*[seq[i:] for i in range(ngrams)])\n",
    "        con = zip(*[contact_scores[i:] for i in range(ngrams)])\n",
    "        for m, c in zip(mer, con):\n",
    "            tmp = ''.join(m)\n",
    "            kmers_dict.setdefault(tmp, 0)\n",
    "            kmers_dict[tmp] += sum(c)\n",
    "            \n",
    "    return kmers_dict"
   ]
  },
  {
   "cell_type": "code",
   "execution_count": 7,
   "metadata": {},
   "outputs": [],
   "source": [
    "def generate_subset(a):\n",
    "    subset = []\n",
    "    for i in range(len(a)+1):\n",
    "        for j in range(1, len(a)+1):\n",
    "            if j > i: \n",
    "                temp = a[i:j]\n",
    "                if temp != a:\n",
    "                    subset.append(temp)\n",
    "    return subset"
   ]
  },
  {
   "cell_type": "markdown",
   "metadata": {},
   "source": [
    "# NucType-Position"
   ]
  },
  {
   "cell_type": "code",
   "execution_count": 8,
   "metadata": {},
   "outputs": [],
   "source": [
    "def attn_HLA_length_aatype_position_num(data, attn_data, hla = 'HLA-A*11:01', label = None, length = 9, show_num = False):\n",
    "    aatype_position = dict()\n",
    "    if label == None:\n",
    "        length_index = np.array(data[data.length == length][data.HLA == hla].index)\n",
    "    else:\n",
    "        length_index = np.array(data[data.length == length][data.HLA == hla][data.label == label].index)\n",
    "\n",
    "    length_data_num = len(length_index)\n",
    "\n",
    "    for head in range(9):\n",
    "        for idx in length_index:\n",
    "            temp_peptide = data.iloc[idx].peptide\n",
    "            temp_length_head = deepcopy(nn.Softmax(dim=-1)(attn_data[idx][head][:, :length].float())) # Shape = (34, 9), 行是HLA，列是peptide，由行查列\n",
    "            temp_length_head = nn.Softmax(dim=-1)(temp_length_head.sum(axis = 0)) # 把这一列的数据相加，shape = （9，）\n",
    "\n",
    "            for i, aa in enumerate(temp_peptide): \n",
    "                aatype_position.setdefault(aa, {})\n",
    "                aatype_position[aa].setdefault(i, 0)\n",
    "                aatype_position[aa][i] += temp_length_head[i] \n",
    "    \n",
    "    if show_num:\n",
    "        aatype_position_num = dict()\n",
    "        for idx in length_index:\n",
    "            temp_peptide = data.iloc[idx].peptide\n",
    "            for i, aa in enumerate(temp_peptide):\n",
    "                aatype_position_num.setdefault(aa, {})\n",
    "                aatype_position_num[aa].setdefault(i, 0)\n",
    "                aatype_position_num[aa][i] += 1\n",
    "             \n",
    "        return aatype_position, aatype_position_num\n",
    "    else:\n",
    "        return aatype_position\n"
   ]
  },
  {
   "cell_type": "code",
   "execution_count": 17,
   "metadata": {},
   "outputs": [],
   "source": [
    "\n",
    "def nuctype_position_pd(seqs, attn, l = 100):\n",
    "    nuctype_position = dict()\n",
    "    attn_nuctype_position = deepcopy(torch.Tensor(attn))\n",
    "    attn_nuctype_position = nn.Softmax(dim = -1)(attn_nuctype_position) # 对每个instance取由行查列的attn归一化\n",
    "    attn_nuctype_position = attn_nuctype_position.sum(dim = 1) # 对每个instance的列相加\n",
    "    print(attn_nuctype_position.shape)\n",
    "    for s_i, seq in tqdm(enumerate(seqs)):\n",
    "        for n_i, nuc in enumerate(seq):\n",
    "            nuctype_position.setdefault(nuc, {})\n",
    "            nuctype_position[nuc].setdefault(n_i, 0)\n",
    "            nuctype_position[nuc][n_i] += attn_nuctype_position[s_i][n_i]\n",
    "\n",
    "\n",
    "    nuctype_position_pd = np.zeros((4, l))\n",
    "    #########\n",
    "    nuc_i, nuc_indexs = 0, []\n",
    "    for nuc, nuc_posi in tqdm(nuctype_position.items()):\n",
    "        nuc_indexs.append(nuc)\n",
    "        for posi, v in nuc_posi.items():\n",
    "            nuctype_position_pd[nuc_i, posi] = v\n",
    "        nuc_i += 1\n",
    "\n",
    "    nuctype_position_pd_unsoftmax = pd.DataFrame(nuctype_position_pd, index = nuc_indexs, columns = range(1, l+1))\n",
    "\n",
    "    nuctype_position_pd_softmax = deepcopy(nn.Softmax(dim = -1)(torch.Tensor(nuctype_position_pd)))\n",
    "    nuctype_position_pd_softmax = pd.DataFrame(nuctype_position_pd_softmax, index = nuc_indexs, columns = range(1, l+1))        \n",
    "    #########\n",
    "    attn_position = deepcopy(torch.Tensor(attn))\n",
    "    attn_position = nn.Softmax(dim = -1)(attn_position) # 对每个instance取由行查列的attn归一化\n",
    "    attn_position = attn_position.sum(dim = 0) # 对所有instance的attn相加\n",
    "    attn_position = np.array((attn_position.sum(axis = 0)))# 把这一列的数据相加\n",
    "    print(attn_position.shape)\n",
    "    return nuctype_position_pd_unsoftmax.loc[['A','G','C','T']], nuctype_position_pd_softmax.loc[['A','G','C','T']], attn_position"
   ]
  },
  {
   "cell_type": "code",
   "execution_count": 18,
   "metadata": {
    "scrolled": true
   },
   "outputs": [],
   "source": [
    "def draw_nuctype_position(nuctype_position_pd_unsoftmax, nuctype_position_pd_softmax, n, l = 100, outputfile = ''):\n",
    "    fig, axes = plt.subplots(nrows = 1, ncols = 1, figsize = (15, 6))\n",
    "    cmap = 'YlGn'\n",
    "    sns.heatmap(nuctype_position_pd_unsoftmax, xticklabels = range(l, 0, -1),\n",
    "#                 ax = axes[0], \n",
    "                cmap = cmap, square = True, cbar = False)\n",
    "    norm_unsoftmax = mpl.colors.Normalize(vmin = nuctype_position_pd_unsoftmax.values.min()/n,\n",
    "                                        vmax = 1.7)#nuctype_position_pd_unsoftmax.values.max()/n)\n",
    "    cbar_unsoftmax = fig.colorbar(mpl.cm.ScalarMappable(norm = norm_unsoftmax, cmap = cmap),\n",
    "                                orientation = 'vertical', shrink = 0.2)#, ax = axes[0])\n",
    "    cbar_unsoftmax.outline.set_visible(False)\n",
    "    \n",
    "    plt.title('Human (n=15,555): NucType - Position')\n",
    "\n",
    "\n",
    "#     sns.heatmap(nuctype_position_pd_softmax, xticklabels = range(50, 0, -1),\n",
    "#                 ax = axes[1], cmap = cmap, square = True, cbar = False)\n",
    "#     print(len(nuctype_position_pd_softmax))\n",
    "#     norm_softmax = mpl.colors.Normalize(vmin = nuctype_position_pd_softmax.values.min()/n,\n",
    "#                                         vmax = nuctype_position_pd_softmax.values.max()/n)\n",
    "#     cbar_softmax = fig.colorbar(mpl.cm.ScalarMappable(norm = norm_softmax, cmap = cmap),\n",
    "#                                 orientation = 'vertical', ax = axes[1])\n",
    "#     cbar_softmax.outline.set_visible(False)\n",
    "#     axes[1].set_title('Unmod_1 (n=280000): NucType - Position | Softmax Normalization')\n",
    "    plt.savefig(outputfile, dpi = 300)\n",
    "#     plt.show()\n",
    "    \n",
    "# draw_eachlength_head_pepposition(sum_peplength_pepposition, label, savepath = False)\n",
    "def draw_position_attention(attn_position, n, l = 100):\n",
    "    fig = plt.figure()\n",
    "\n",
    "    cmap = 'OrRd'\n",
    "    sns.heatmap(attn_position.reshape(-1, 1).T, cmap = cmap, cbar = False, square = True,\n",
    "            xticklabels = range(l, 0, -1), yticklabels = '')\n",
    "\n",
    "    plt.title('Human (n=15,555) | Positional Attention')\n",
    "    plt.xlabel(\"5'UTR position\")\n",
    "    plt.ylabel('')\n",
    "\n",
    "    norm = mpl.colors.Normalize(vmin = min(attn_position)/n, vmax = max(attn_position)/n)\n",
    "    cbar = fig.colorbar(mpl.cm.ScalarMappable(norm = norm, cmap = cmap), \n",
    "                    orientation='vertical', shrink = 0.5) # , anchor = (-0.2, 0.5)\n",
    "    cbar.outline.set_visible(False)\n",
    "\n",
    "    plt.show()"
   ]
  },
  {
   "cell_type": "code",
   "execution_count": 19,
   "metadata": {},
   "outputs": [],
   "source": [
    "def obtained_low_high_label(seqs, labels, attns, low=2, high=10):\n",
    "    \"\"\"\n",
    "    Get the indices of elements in the 'labels' array that fall within the range [low, high].\n",
    "\n",
    "    Parameters:\n",
    "    labels (numpy.ndarray): NumPy array of labels.\n",
    "    low (int): Lower bound of the range (inclusive).\n",
    "    high (int): Upper bound of the range (inclusive).\n",
    "\n",
    "    Returns:\n",
    "    low_indices (numpy.ndarray): Indices of elements in 'labels' that are greater than or equal to 'low'.\n",
    "    high_indices (numpy.ndarray): Indices of elements in 'labels' that are less than or equal to 'high'.\n",
    "    \"\"\"\n",
    "    low_indices = np.where((labels < low))[0]\n",
    "    high_indices = np.where(labels > high)[0]\n",
    "    return (seqs[low_indices], labels[low_indices], attns[low_indices]), (seqs[high_indices], labels[high_indices], attns[high_indices])\n"
   ]
  },
  {
   "cell_type": "markdown",
   "metadata": {},
   "source": [
    "# Finetuned"
   ]
  },
  {
   "cell_type": "code",
   "execution_count": 20,
   "metadata": {},
   "outputs": [],
   "source": [
    "plt.rcParams.update({'font.size': 7})"
   ]
  },
  {
   "cell_type": "code",
   "execution_count": 21,
   "metadata": {},
   "outputs": [
    {
     "name": "stdout",
     "output_type": "stream",
     "text": [
      "['sequences', 'labels', 'attentions_symm_ESM2']\n",
      "(15555, 100, 100) 15555\n",
      "(15555, 100, 100) 15555\n"
     ]
    }
   ],
   "source": [
    "obj_col = 'attentions_symm_ESM2'\n",
    "pwd = '/scratch/users/yanyichu/UTR-LM/Independent/Embedding_Contacts/ESM2_finetuned/attentions_symm/'\n",
    "filename = 'Finetuned_VaryLengthHumanAll_sequence__MJ7_seed1337_ESM2SISS_FS4.1.Independent.len100.1e-2.dr5_VaryLengthRandomTrain_sequence_utr__attentions_symm.npz'\n",
    "\n",
    "data = np.load(pwd + filename)\n",
    "print(list(data.keys()))\n",
    "\n",
    "attns = data[obj_col]\n",
    "seqs = data['sequences']\n",
    "labels = data['labels']\n",
    "print(attns.shape, len(seqs))\n",
    "\n",
    "index_nondup = np.array(pd.DataFrame(seqs).drop_duplicates().index)\n",
    "seqs = seqs[index_nondup]\n",
    "seqs = np.array([s.replace('<pad>', 'N') for s in seqs])\n",
    "labels = labels[index_nondup]\n",
    "attns = attns[index_nondup]\n",
    "print(attns.shape, len(seqs))"
   ]
  },
  {
   "cell_type": "code",
   "execution_count": 23,
   "metadata": {},
   "outputs": [
    {
     "data": {
      "text/plain": [
       "array(['TCCCCACTCCCCTTTCCCTGCCCAC', 'ATCTCCAGCCTTACCGCGGCTCGAA',\n",
       "       'CACTTCGGAGGATTGCTCAACAACC', ...,\n",
       "       'ACCGAGCCGAGAGGACCCGAGTGGGGCCGAGGCCAGTAGCCCCGGGGCCCTGAGCAGAGGCCGTAGCTTGCGCCGCACCCGCGGCCAGGCGGAGCCAAAG',\n",
       "       'ATGTTGTGATGGAGAAGCCGCGGCGGAGCCCGAACCCCGCAGCCTGAGCCACCTCCGTCATCTGGGCCCGGGGCCTCACCGCGCAGGAGCTGCCAAGGCC',\n",
       "       'AGGAGGAGAAAGCTGACCGCTTAGGCCGGGGTAGTGGTCGTCGTGGTTTTCCTTGTAGTTCGTGGTCTGAGACCAGGCCTCAAGTGGAAACGGCGTCACC'],\n",
       "      dtype='<U100')"
      ]
     },
     "execution_count": 23,
     "metadata": {},
     "output_type": "execute_result"
    }
   ],
   "source": [
    "seqs"
   ]
  },
  {
   "cell_type": "code",
   "execution_count": 24,
   "metadata": {},
   "outputs": [
    {
     "data": {
      "text/plain": [
       "array([4.57901529, 5.61433154, 5.98611951, ..., 7.53956911, 3.74095155,\n",
       "       5.58595158])"
      ]
     },
     "execution_count": 24,
     "metadata": {},
     "output_type": "execute_result"
    }
   ],
   "source": [
    "labels"
   ]
  },
  {
   "cell_type": "markdown",
   "metadata": {},
   "source": [
    "# ATG"
   ]
  },
  {
   "cell_type": "code",
   "execution_count": 25,
   "metadata": {
    "scrolled": true
   },
   "outputs": [],
   "source": [
    "# 导入需要的库\n",
    "import random\n",
    "\n",
    "# 生成示例的UTR序列列表（这里假设有100个序列，每个序列长度在25到100之间）\n",
    "#  = [''.join(random.choice('ACGT') for _ in range(random.randint(25, 100))) for _ in range(100)]\n",
    "\n",
    "def stat_atg_num(utr_sequences):\n",
    "    # 初始化统计变量\n",
    "    total_sequences_with_atg = 0\n",
    "    total_atg_count = 0\n",
    "    position_counts = [0] * 100\n",
    "    atg_num_list = []\n",
    "    # 遍历每个UTR序列\n",
    "    for sequence in utr_sequences:\n",
    "        # 统计出现ATG的序列数量\n",
    "        if 'ATG' in sequence:\n",
    "            total_sequences_with_atg += 1\n",
    "\n",
    "            # 统计每个序列中ATG的出现次数\n",
    "            atg_count = sequence.count('ATG')\n",
    "            total_atg_count += atg_count\n",
    "\n",
    "            # 统计ATG在不同位置上的出现次数\n",
    "            for i in range(len(sequence) - 2):  # 减去2是因为要避免序列末尾的位置\n",
    "                if sequence[i:i + 3] == 'ATG':\n",
    "                    position_counts[i] += 1\n",
    "                    \n",
    "            atg_num_list.append(atg_count)\n",
    "        else:\n",
    "            atg_num_list.append(0)\n",
    "    # 计算平均每个序列出现ATG的次数\n",
    "    average_atg_count_per_sequence = total_atg_count / total_sequences_with_atg\n",
    "\n",
    "    # 打印统计结果\n",
    "    print(f\"出现ATG的序列数量: {total_sequences_with_atg}\")\n",
    "    print(f\"出现ATG的数量: {total_atg_count}\")\n",
    "    print(f\"平均每个序列出现ATG的次数: {average_atg_count_per_sequence}\")\n",
    "#     print(\"ATG在不同位置上的出现次数:\")\n",
    "#     for i, count in enumerate(position_counts):\n",
    "#         print(f\"位置 {i+1} 出现次数: {count}\")\n",
    "    return np.array(position_counts).T, atg_num_list"
   ]
  },
  {
   "cell_type": "code",
   "execution_count": 177,
   "metadata": {},
   "outputs": [
    {
     "name": "stdout",
     "output_type": "stream",
     "text": [
      "Sorted Array: [ 0.79257236  1.09902955  1.30373552 ...  9.5220938   9.7336731\n",
      " 10.19528271]\n",
      "Indices of Sorted Array: [ 9808 13219 11035 ... 14958 14433  8280]\n"
     ]
    }
   ],
   "source": [
    "sorted_indices = np.argsort(labels)\n",
    "\n",
    "# 使用索引对数组进行排序\n",
    "sorted_labels = labels[sorted_indices]\n",
    "sorted_seqs = seqs[sorted_indices]\n",
    "sorted_attns = attns[sorted_indices]\n",
    "print(\"Sorted Array:\", sorted_labels)\n",
    "print(\"Indices of Sorted Array:\", sorted_indices)\n"
   ]
  },
  {
   "cell_type": "code",
   "execution_count": 178,
   "metadata": {},
   "outputs": [],
   "source": [
    "high_156 = pd.DataFrame([sorted_seqs[-156:], sorted_labels[-156:]], index = ['Sequences', 'MRL']).T\n",
    "high_156 = high_156.sort_values('MRL', ascending = False).reset_index(drop = True)\n",
    "\n",
    "low_156 = pd.DataFrame([sorted_seqs[:156], sorted_labels[:156]], index = ['Sequences', 'MRL']).T\n",
    "low_156 = low_156.sort_values('MRL', ascending = False).reset_index(drop = True)\n",
    "\n",
    "high_100 = pd.DataFrame([sorted_seqs[-100:], sorted_labels[-100:]], index = ['Sequences', 'MRL']).T\n",
    "high_100 = high_100.sort_values('MRL', ascending = False).reset_index(drop = True)\n",
    "\n",
    "low_100 = pd.DataFrame([sorted_seqs[:100], sorted_labels[:100]], index = ['Sequences', 'MRL']).T"
   ]
  },
  {
   "cell_type": "code",
   "execution_count": 209,
   "metadata": {},
   "outputs": [
    {
     "name": "stdout",
     "output_type": "stream",
     "text": [
      "出现ATG的序列数量: 3714\n",
      "出现ATG的数量: 4981\n",
      "平均每个序列出现ATG的次数: 1.3411416262789446\n"
     ]
    }
   ],
   "source": [
    "'''\n",
    "15555 seqs\n",
    "'''\n",
    "seqs_atg, seqs_atg_nums = stat_atg_num(seqs)"
   ]
  },
  {
   "cell_type": "code",
   "execution_count": 179,
   "metadata": {},
   "outputs": [
    {
     "name": "stdout",
     "output_type": "stream",
     "text": [
      "Lowest 100:\n",
      "出现ATG的序列数量: 98\n",
      "出现ATG的数量: 164\n",
      "平均每个序列出现ATG的次数: 1.6734693877551021\n",
      "\n",
      "Highest 100:\n",
      "出现ATG的序列数量: 8\n",
      "出现ATG的数量: 8\n",
      "平均每个序列出现ATG的次数: 1.0\n",
      "\n",
      "Lowest 10% (n=156):\n",
      "出现ATG的序列数量: 147\n",
      "出现ATG的数量: 228\n",
      "平均每个序列出现ATG的次数: 1.5510204081632653\n",
      "\n",
      "Highest 10% (n=156):\n",
      "出现ATG的序列数量: 11\n",
      "出现ATG的数量: 11\n",
      "平均每个序列出现ATG的次数: 1.0\n"
     ]
    }
   ],
   "source": [
    "print('Lowest 100:')\n",
    "low100_atg, low100_atg_nums = stat_atg_num(low_100.Sequences)\n",
    "print('\\nHighest 100:')\n",
    "high100_atg, high100_atg_nums = stat_atg_num(high_100.Sequences)\n",
    "print('\\nLowest 10% (n=156):')\n",
    "low156_atg, low156_atg_nums = stat_atg_num(low_156.Sequences)\n",
    "print('\\nHighest 10% (n=156):')\n",
    "high156_atg, high156_atg_nums = stat_atg_num(high_156.Sequences)"
   ]
  },
  {
   "cell_type": "code",
   "execution_count": 180,
   "metadata": {},
   "outputs": [],
   "source": [
    "low_100['ATG_Count'] = low100_atg_nums\n",
    "low_100.to_csv('Human_Low100MRL.csv')\n",
    "\n",
    "high_100['ATG_Count'] = high100_atg_nums\n",
    "high_100.to_csv('Human_High100MRL.csv')\n",
    "\n",
    "high_156['ATG_Count'] = high156_atg_nums\n",
    "high_156.to_csv('Human_High156MRL.csv')\n",
    "\n",
    "low_156['ATG_Count'] = low156_atg_nums\n",
    "low_156.to_csv('Human_Low156MRL.csv')"
   ]
  },
  {
   "cell_type": "code",
   "execution_count": 239,
   "metadata": {},
   "outputs": [
    {
     "data": {
      "text/html": [
       "<div>\n",
       "<style scoped>\n",
       "    .dataframe tbody tr th:only-of-type {\n",
       "        vertical-align: middle;\n",
       "    }\n",
       "\n",
       "    .dataframe tbody tr th {\n",
       "        vertical-align: top;\n",
       "    }\n",
       "\n",
       "    .dataframe thead th {\n",
       "        text-align: right;\n",
       "    }\n",
       "</style>\n",
       "<table border=\"1\" class=\"dataframe\">\n",
       "  <thead>\n",
       "    <tr style=\"text-align: right;\">\n",
       "      <th></th>\n",
       "      <th>Sequences</th>\n",
       "      <th>MRL</th>\n",
       "      <th>ATG_Count</th>\n",
       "    </tr>\n",
       "  </thead>\n",
       "  <tbody>\n",
       "    <tr>\n",
       "      <th>0</th>\n",
       "      <td>AGGATGCCCTGCGCGGGGCGGCGGAGCGGGTGCGTGCGGCGGCGGT...</td>\n",
       "      <td>0.792572</td>\n",
       "      <td>2</td>\n",
       "    </tr>\n",
       "    <tr>\n",
       "      <th>1</th>\n",
       "      <td>AGACAGAGGGGGCACAGTGCGAGGCTGCAGGGCAGGATGACCTAAC...</td>\n",
       "      <td>1.09903</td>\n",
       "      <td>2</td>\n",
       "    </tr>\n",
       "    <tr>\n",
       "      <th>2</th>\n",
       "      <td>GCTCGGCGAACATGGCGGCGGCGACGGTCGGGCGGGACACTTTACC...</td>\n",
       "      <td>1.303736</td>\n",
       "      <td>1</td>\n",
       "    </tr>\n",
       "    <tr>\n",
       "      <th>3</th>\n",
       "      <td>AAATGTAGTCACTGTCCCGGAACCTGGGGCAGCGGAGTCCCGTGCG...</td>\n",
       "      <td>1.322791</td>\n",
       "      <td>1</td>\n",
       "    </tr>\n",
       "    <tr>\n",
       "      <th>4</th>\n",
       "      <td>ATATATCCGTAGGAATGGAGAGGGACCGGATCTCAGGGCATGGCTC...</td>\n",
       "      <td>1.330691</td>\n",
       "      <td>2</td>\n",
       "    </tr>\n",
       "  </tbody>\n",
       "</table>\n",
       "</div>"
      ],
      "text/plain": [
       "                                           Sequences       MRL  ATG_Count\n",
       "0  AGGATGCCCTGCGCGGGGCGGCGGAGCGGGTGCGTGCGGCGGCGGT...  0.792572          2\n",
       "1  AGACAGAGGGGGCACAGTGCGAGGCTGCAGGGCAGGATGACCTAAC...   1.09903          2\n",
       "2  GCTCGGCGAACATGGCGGCGGCGACGGTCGGGCGGGACACTTTACC...  1.303736          1\n",
       "3  AAATGTAGTCACTGTCCCGGAACCTGGGGCAGCGGAGTCCCGTGCG...  1.322791          1\n",
       "4  ATATATCCGTAGGAATGGAGAGGGACCGGATCTCAGGGCATGGCTC...  1.330691          2"
      ]
     },
     "execution_count": 239,
     "metadata": {},
     "output_type": "execute_result"
    }
   ],
   "source": [
    "low_100.head()"
   ]
  },
  {
   "cell_type": "code",
   "execution_count": 181,
   "metadata": {
    "scrolled": true
   },
   "outputs": [
    {
     "data": {
      "text/plain": [
       "Ttest_indResult(statistic=15.975563967127938, pvalue=1.8684130815812568e-37)"
      ]
     },
     "execution_count": 181,
     "metadata": {},
     "output_type": "execute_result"
    }
   ],
   "source": [
    "stats.ttest_ind(low100_atg_nums, high100_atg_nums)"
   ]
  },
  {
   "cell_type": "code",
   "execution_count": 182,
   "metadata": {},
   "outputs": [
    {
     "data": {
      "text/plain": [
       "Ttest_indResult(statistic=18.61687190841428, pvalue=1.879651434421103e-52)"
      ]
     },
     "execution_count": 182,
     "metadata": {},
     "output_type": "execute_result"
    }
   ],
   "source": [
    "stats.ttest_ind(low156_atg_nums, high156_atg_nums)"
   ]
  },
  {
   "cell_type": "code",
   "execution_count": 189,
   "metadata": {},
   "outputs": [
    {
     "data": {
      "text/plain": [
       "(PearsonRResult(statistic=0.025862820082121252, pvalue=0.7983992490313356),\n",
       " PearsonRResult(statistic=-0.052467387880056726, pvalue=0.6041549865170118),\n",
       " PearsonRResult(statistic=-0.16850095727165632, pvalue=0.035491204008331285),\n",
       " PearsonRResult(statistic=-0.007020558732788815, pvalue=0.9306853447508061))"
      ]
     },
     "execution_count": 189,
     "metadata": {},
     "output_type": "execute_result"
    }
   ],
   "source": [
    "pearsonr(low_100.MRL, low_100.ATG_Count), \\\n",
    "pearsonr(high_100.MRL, high_100.ATG_Count), \\\n",
    "pearsonr(low_156.MRL, low_156.ATG_Count), \\\n",
    "pearsonr(high_156.MRL, high_156.ATG_Count)"
   ]
  },
  {
   "cell_type": "code",
   "execution_count": 255,
   "metadata": {},
   "outputs": [
    {
     "data": {
      "image/png": "[encoded data removed]",
      "text/plain": [
       "<Figure size 648x216 with 3 Axes>"
      ]
     },
     "metadata": {
      "needs_background": "light"
     },
     "output_type": "display_data"
    }
   ],
   "source": [
    "import matplotlib.pyplot as plt\n",
    "import numpy as np\n",
    "from scipy.stats import spearmanr, pearsonr\n",
    "\n",
    "# 创建颜色映射，根据序列长度映射颜色\n",
    "colors = np.array([len(s) for s in seqs])\n",
    "fig, axes = plt.subplots(nrows = 1, ncols = 3, figsize = (9, 3))\n",
    "# 绘制散点图\n",
    "axes[0].scatter(seqs_atg_nums, labels, s = 1)#, c=colors, cmap='viridis', marker='o', s = 1)\n",
    "axes[0].set_title(\"(a)15,555 5' UTR Sequences\", fontsize=7)\n",
    "\n",
    "axes[1].scatter(low_100.ATG_Count, low_100.MRL, s = 1)#, c=colors, cmap='viridis', marker='o', s = 1)\n",
    "axes[1].set_title(\"(b)Top 100 5' UTRs with Lowest MRL\", fontsize=7)\n",
    "\n",
    "axes[2].scatter(high_100.ATG_Count, high_100.MRL, s = 1)#, c=colors, cmap='viridis', marker='o', s = 1)\n",
    "axes[2].set_title(\"(c)Top 100 5' UTRs with Highest MRL\", fontsize=7)\n",
    "# 设置横纵坐标标签\n",
    "axes[0].set_ylabel('MRL', fontsize=7)\n",
    "axes[0].set_xlabel('The count of ATG occurrences', fontsize=7)\n",
    "axes[1].set_xlabel('The count of ATG occurrences', fontsize=7)\n",
    "axes[2].set_xlabel('The count of ATG occurrences', fontsize=7)\n",
    "plt.tick_params(axis='both', which='both', width=0.5, length=2, labelsize=7)\n",
    "\n",
    "# 设置坐标轴的字号为7pt\n",
    "# plt.xticks(range(0, 1022, 100), fontsize=7)\n",
    "# plt.yticks(range(-700, 1, 100), fontsize=7)\n",
    "\n",
    "# 添加标题\n",
    "plt.suptitle(\"Correlation between MRL and ATG occurrences\", fontsize=7)\n",
    "\n",
    "# 计算 Spearman R、Pearson R 和 R2\n",
    "all_pearson, _ = pearsonr(seqs_atg_nums, labels)\n",
    "low100_pearson, _ = pearsonr(low_100.ATG_Count, low_100.MRL)\n",
    "high100_pearson, _ = pearsonr(high_100.ATG_Count, high_100.MRL)\n",
    "\n",
    "# 将计算结果添加到图中\n",
    "# text = f'R-Squared = {r_squared:.2f}\\nSpearman R = {spearman_corr:.2f}\\nPearson R = {pearson_corr:.2f}'\n",
    "# print(text)\n",
    "all_pearson = f'R = {all_pearson:.2f}'\n",
    "low_pearson = f'R = {low100_pearson:.2f}'\n",
    "high_pearson = f'R = {high100_pearson:.2f}'\n",
    "\n",
    "plt.text(-2, 10, all_pearson, fontsize=7)\n",
    "plt.text(-1, 8, low_pearson, fontsize=7)\n",
    "plt.text(0.5, 10, high_pearson, fontsize=7)\n",
    "# 显示图形\n",
    "# plt.savefig('/scratch/users/yanyichu/UTR-LM/MJ_FiveSpecies_MFE_length.jpg', dpi = 300)\n",
    "plt.show()"
   ]
  },
  {
   "cell_type": "code",
   "execution_count": 320,
   "metadata": {},
   "outputs": [
    {
     "data": {
      "image/png": "[encoded data removed]",
      "text/plain": [
       "<Figure size 504x216 with 1 Axes>"
      ]
     },
     "metadata": {
      "needs_background": "light"
     },
     "output_type": "display_data"
    }
   ],
   "source": [
    "import matplotlib.pyplot as plt\n",
    "import numpy as np\n",
    "from scipy.stats import spearmanr, pearsonr\n",
    "\n",
    "# 创建颜色映射，根据序列长度映射颜色\n",
    "colors = np.array([len(s) for s in seqs])\n",
    "plt.figure(figsize = (7,3))\n",
    "# 绘制散点图\n",
    "plt.scatter(seqs_atg_nums, labels, s = 1)#, c=colors, cmap='viridis', marker='o', s = 1)\n",
    "# plt.title(\"(a)Correlation between MRL and ATG occurrences across 15,555 5' UTR Sequences\", fontsize=7)\n",
    "\n",
    "# axes[1].scatter(low_100.ATG_Count, low_100.MRL, s = 1)#, c=colors, cmap='viridis', marker='o', s = 1)\n",
    "# axes[1].set_title(\"(b)Top 100 5' UTRs with Lowest MRL\", fontsize=7)\n",
    "\n",
    "# axes[2].scatter(high_100.ATG_Count, high_100.MRL, s = 1)#, c=colors, cmap='viridis', marker='o', s = 1)\n",
    "# axes[2].set_title(\"(c)Top 100 5' UTRs with Highest MRL\", fontsize=7)\n",
    "# # 设置横纵坐标标签\n",
    "plt.ylabel('MRL', fontsize=7)\n",
    "plt.xlabel('Counts of ATG', fontsize=7)\n",
    "# axes[1].set_xlabel('The count of ATG occurrences', fontsize=7)\n",
    "# axes[2].set_xlabel('The count of ATG occurrences', fontsize=7)\n",
    "# plt.tick_params(axis='both', which='both', width=0.5, length=2, labelsize=7)\n",
    "\n",
    "# 设置坐标轴的字号为7pt\n",
    "# plt.xticks(range(0, 1022, 100), fontsize=7)\n",
    "# plt.yticks(range(-700, 1, 100), fontsize=7)\n",
    "\n",
    "# 添加标题\n",
    "# plt.suptitle(\"Correlation between MRL and ATG occurrences\", fontsize=7)\n",
    "\n",
    "# 计算 Spearman R、Pearson R 和 R2\n",
    "all_pearson, _ = pearsonr(seqs_atg_nums, labels)\n",
    "# low100_pearson, _ = pearsonr(low_100.ATG_Count, low_100.MRL)\n",
    "# high100_pearson, _ = pearsonr(high_100.ATG_Count, high_100.MRL)\n",
    "\n",
    "# 将计算结果添加到图中\n",
    "# text = f'R-Squared = {r_squared:.2f}\\nSpearman R = {spearman_corr:.2f}\\nPearson R = {pearson_corr:.2f}'\n",
    "# print(text)\n",
    "all_pearson = f'R = {all_pearson:.2f}'\n",
    "# low_pearson = f'R = {low100_pearson:.2f}'\n",
    "# high_pearson = f'R = {high100_pearson:.2f}'\n",
    "\n",
    "plt.text(1, 10, all_pearson, fontsize=7)\n",
    "plt.text(-0.8, 11, \"(a) Correlation between ATG occurrences and MRL\", fontsize=7)\n",
    "# plt.text(-1, 8, low_pearson, fontsize=7)\n",
    "# plt.text(0.5, 10, high_pearson, fontsize=7)\n",
    "# 显示图形\n",
    "plt.savefig('/scratch/users/yanyichu/UTR-LM/MJ_Correlation_MRL_ATGnum.pdf', dpi = 300)\n",
    "plt.show()"
   ]
  },
  {
   "cell_type": "code",
   "execution_count": 321,
   "metadata": {},
   "outputs": [
    {
     "name": "stderr",
     "output_type": "stream",
     "text": [
      "/tmp/ipykernel_125633/1915159178.py:15: MatplotlibDeprecationWarning: Unable to determine Axes to steal space for Colorbar. Using gca(), but will raise in the future. Either provide the *cax* argument to use as the Axes for the Colorbar, provide the *ax* argument to steal space from it, or add *mappable* to an Axes.\n",
      "  cbar = fig.colorbar(mpl.cm.ScalarMappable(norm = norm, cmap = cmap),\n"
     ]
    },
    {
     "data": {
      "image/png": "[encoded data removed]",
      "text/plain": [
       "<Figure size 576x720 with 2 Axes>"
      ]
     },
     "metadata": {
      "needs_background": "light"
     },
     "output_type": "display_data"
    }
   ],
   "source": [
    "fig = plt.figure(figsize = (8, 10))\n",
    "\n",
    "cmap = 'OrRd'\n",
    "sns.heatmap(np.array(low100_atg).reshape(-1, 100), cmap = cmap, cbar = False, square = True,\n",
    "        xticklabels = range(100,0,-10), yticklabels = '')\n",
    "\n",
    "xtick_positions = range(100, -1, -10)  # 每10个位置一个xtick\n",
    "plt.xticks(xtick_positions, [1, 10, 20, 30, 40, 50, 60, 70, 80, 90, 100])\n",
    "plt.xlabel('Position')\n",
    "\n",
    "plt.title(f\"(b) ATG Frequency in Top 100 Lowest MRL 5' UTRs\", loc = 'left', fontsize=7)\n",
    "plt.ylabel('')\n",
    "\n",
    "norm = mpl.colors.Normalize(vmin = low100_atg.min(), vmax = low100_atg.max()+1)\n",
    "cbar = fig.colorbar(mpl.cm.ScalarMappable(norm = norm, cmap = cmap), \n",
    "                orientation='vertical', shrink = 0.08) # , anchor = (-0.2, 0.5)\n",
    "cbar.outline.set_visible(False)\n",
    "cbar.set_label('Counts of ATG', fontsize=7)\n",
    "\n",
    "plt.savefig(f'/scratch/users/yanyichu/UTR-LM/MRL_Top100Lowest_ATG_Frequency.pdf')\n",
    "plt.show()\n",
    "#     break"
   ]
  },
  {
   "cell_type": "code",
   "execution_count": 322,
   "metadata": {},
   "outputs": [
    {
     "name": "stderr",
     "output_type": "stream",
     "text": [
      "/tmp/ipykernel_125633/3148392117.py:16: MatplotlibDeprecationWarning: Unable to determine Axes to steal space for Colorbar. Using gca(), but will raise in the future. Either provide the *cax* argument to use as the Axes for the Colorbar, provide the *ax* argument to steal space from it, or add *mappable* to an Axes.\n",
      "  cbar = fig.colorbar(mpl.cm.ScalarMappable(norm = norm, cmap = cmap),\n"
     ]
    },
    {
     "data": {
      "image/png": "[encoded data removed]",
      "text/plain": [
       "<Figure size 576x720 with 2 Axes>"
      ]
     },
     "metadata": {
      "needs_background": "light"
     },
     "output_type": "display_data"
    }
   ],
   "source": [
    "fig = plt.figure(figsize = (8, 10))\n",
    "\n",
    "cmap = 'OrRd'\n",
    "sns.heatmap(np.array(high100_atg).reshape(-1, 100), cmap = cmap, cbar = False, square = True,\n",
    "        xticklabels = range(100,0,-10), yticklabels = '')\n",
    "\n",
    "xtick_positions = range(100, -1, -10)  # 每10个位置一个xtick\n",
    "plt.xticks(xtick_positions, [1, 10, 20, 30, 40, 50, 60, 70, 80, 90, 100])\n",
    "# plt.xtickslabel(range(100, 0, -10), range(100, 0, -10))\n",
    "\n",
    "plt.title(f\"(c) ATG Frequency in Top 100 Highest MRL 5' UTRs\", loc = 'left', fontsize=7)\n",
    "plt.ylabel('')\n",
    "plt.xlabel('Position')\n",
    "\n",
    "norm = mpl.colors.Normalize(vmin = high100_atg.min(), vmax = high100_atg.max())\n",
    "cbar = fig.colorbar(mpl.cm.ScalarMappable(norm = norm, cmap = cmap), \n",
    "                orientation='vertical', shrink = 0.08) # , anchor = (-0.2, 0.5)\n",
    "cbar.outline.set_visible(False)\n",
    "cbar.set_label('Counts of ATG', fontsize=7)\n",
    "\n",
    "plt.savefig(f'/scratch/users/yanyichu/UTR-LM/MRL_Top100Highest_ATG_Frequency.pdf')\n",
    "plt.show()\n",
    "#     break"
   ]
  },
  {
   "cell_type": "markdown",
   "metadata": {},
   "source": [
    "# Example of Low and High"
   ]
  },
  {
   "cell_type": "code",
   "execution_count": 14,
   "metadata": {},
   "outputs": [
    {
     "data": {
      "text/plain": [
       "((878,), (58,))"
      ]
     },
     "execution_count": 14,
     "metadata": {},
     "output_type": "execute_result"
    }
   ],
   "source": [
    "(seqs_low, labels_low, attns_low), (seqs_high, labels_high, attns_high) = obtained_low_high_label(seqs, labels, attns, low=3, high=8)\n",
    "seqs_low.shape, seqs_high.shape"
   ]
  },
  {
   "cell_type": "code",
   "execution_count": 87,
   "metadata": {
    "scrolled": true
   },
   "outputs": [
    {
     "data": {
      "text/plain": [
       "[[477, 'TTCTGATTTCAGCTCTCAGCATCCACC', 6.03138523484],\n",
       " [1018, 'GGGTCAGTTCCTGCTACAGCTATCCCACC', 6.09661360699],\n",
       " [1418, 'TTGGGTCAGTTCCTGCTACAGCTATCCCACC', 6.21369977674],\n",
       " [1671, 'GTCAGTCGTGAAGAGGGAGCTCTATTGCCACC', 6.125911909],\n",
       " [2513, 'AGAGGGAGCAGTGAATAGCAATAGGGTGTTTCCACC', 6.0692334925],\n",
       " [2743, 'GAGAGACTGAAGAACCCAGCATTGCAGCAGCTCCACC', 6.23050785518],\n",
       " [2775, 'ACTCTTCTGGTCCCCACAGACTCAGAGAGAACCCACC', 6.0652515473],\n",
       " [2960, 'GCTGCTGTTTCCTTCGGCTTTCCTCCTCCTGCTCCACC', 6.07061318328],\n",
       " [3164, 'CTGCTTTTCTCCAGCTCTGTCAACTCAACCTTTCCCACC', 6.16877985996],\n",
       " [3207, 'GTGCCTGGGCTTGCTCATTCAGTCACAGTCACAGCCACC', 6.11214477234],\n",
       " [4132, 'GAGGGCTTGGGAGAGCAAGCCGCGGAGAGAACTTGAAGCCACC', 6.41749108873],\n",
       " [4258, 'GCATCCCCTGCGCGAAGCTGGGTGCCCCGGAGAGTCTGACCACC', 6.22775212786],\n",
       " [4512, 'GCTCTCAGAGGCAGCGTGCGGGTGTGCTCTTTGTGAAATTCCACC', 6.26224976185],\n",
       " [4539, 'TTACTTTCTTACTCTTGGGTCAGTTCCTGCTACAGCTATCCCACC', 6.2200897682],\n",
       " [4666, 'GCCGAAGGTGCCTGGGCTTGCTCATTCAGTCACAGTCACAGCCACC', 6.11567289109],\n",
       " [4687, 'CTTTGAAGCATTTTTGTCTGTGCTCCCTGATCTTCAGGTCACCACC', 6.44328488981],\n",
       " [4731, 'GGAGTGTGGAATTCTTCTCGGGAGGCAGTGCTGGGTCCTTTCCACC', 6.2101228243],\n",
       " [5011, 'GGAGAGCCACTGACGCCGGGACCGGGACCGCCGCCGCCGCCGCCACC', 6.04210293404],\n",
       " [5065, 'CCTTGGAGACTGCTTTTCTCCAGCTCTGTCAACTCAACCTTTCCCACC', 6.18479407579],\n",
       " [5138, 'AGAGCACCGGACGACAACAGCAGCAGCAACAACGCGGCAGCCGCCACC', 6.02986473553],\n",
       " [5153, 'GCGGAGTGTGGAATTCTTCTCGGGAGGCAGTGCTGGGTCCTTTCCACC', 6.26326043753],\n",
       " [5181, 'GGAGAGCCTGAGTTGGCATTCGTATAAATGACCTGCCTGGCTCCCACC', 6.60462283401],\n",
       " [5447, 'CATTGGGCTATAAGAGGAGCTTGACCGTGGGTGCACCCTGGACCCCACC', 6.22230474138],\n",
       " [5484, 'CTCATTTTCTCTTGCCACCACTAAGTAAGAAGAGCCTTTTGCCTCCCACC', 6.44990804813],\n",
       " [6380,\n",
       "  'GTCGAATCCAAATCACTCATTGTGAAAGCTGAGCTCACAGCCGAATAAGCCACC',\n",
       "  6.10907928846],\n",
       " [6822,\n",
       "  'GCAACTTCCTTCGGTCGTCCCGAATCCGGGTTCATCCGACACCAGCCGCCTCCACC',\n",
       "  6.1150071212],\n",
       " [7093,\n",
       "  'CCGGAGTCCCATTTGGGAGCAAGAGCCATCTACTCGTCCGTTACCGGCCTTCCCACC',\n",
       "  6.31060315338],\n",
       " [7416,\n",
       "  'TACGCCCCTGGGAGCGTTGTGGCTGCTGTTTCCTTCGGCTTTCCTCCTCCTGCTCCACC',\n",
       "  6.03199618583],\n",
       " [7493,\n",
       "  'TCCTTGTCTGCGTTCCGTGTCCAGGCGCCGCGGCTCTGCTACTGCTGCTGCCCGCCACC',\n",
       "  6.08647549264],\n",
       " [7837,\n",
       "  'ATTAACACTTGGGTAACTTACCCTTCACAATCCATCTAAATCCTTCTCAATTGCTGCCACC',\n",
       "  6.35385468588],\n",
       " [7853,\n",
       "  'AGAGTTGCCACAGCTCTTCTACTCCACTGCTGTCTATCTTGCCTGCCGGCACCCAGCCACC',\n",
       "  6.50979078888],\n",
       " [8004,\n",
       "  'GCCGAGGCGGCAGCGGCTGCGAGAGGCGGCGGCACGACGACGGTCCCTCAGCCCAGCCACC',\n",
       "  6.09566201409],\n",
       " [8176,\n",
       "  'GCGTGTCAGGTGGTTGCGGAGCTGAATCATATTCTAAGAACTCAGCCACTCAGGTATCCACC',\n",
       "  6.99017985897],\n",
       " [8257,\n",
       "  'GGGGCGGCCCGGAGCGCGGTGGCGCGGCGCGGGAGGGGTTTTCTGGTGCGTCCTGGTCCACC',\n",
       "  6.84571762043],\n",
       " [8455,\n",
       "  'AGCAGTTGCTCCGGCGGCGCTCGGGGAGGGAGCCAGCAGCCTAGGGCCTAGGCCCGGGCCACC',\n",
       "  6.33793954539],\n",
       " [8719,\n",
       "  'ATCTTCTACGCCCCTGGGAGCGTTGTGGCTGCTGTTTCCTTCGGCTTTCCTCCTCCTGCTCCACC',\n",
       "  6.26554565448],\n",
       " [8731,\n",
       "  'CTACGGCGAGGCACAGGCCAGCCCAGCTCCACGAGGACTGAACAAGGTGCTGTCTCACTGCCACC',\n",
       "  6.22146122666],\n",
       " [8916,\n",
       "  'GGAAGAAATTTTACAGGCTTTTTATTGGCCGGTTATTTTTCTGTGTGTCCCATACAGGCCCCCACC',\n",
       "  6.75339105269],\n",
       " [9014,\n",
       "  'GCTGCTGAGCGGTTTTGCAGACTACCATCTTCCCTGCAACTCTGAAGGATGGACTTAACCACCACC',\n",
       "  6.42128299684],\n",
       " [9020,\n",
       "  'TTGTTTTTCGGAGCGTTCCTGAGGTGACACTCACGGACCTTAGCCACCGCCGCCGCCATCGCCACC',\n",
       "  6.75817226966],\n",
       " [9180,\n",
       "  'TTCCTCATTGGAAGAAGAAGCATAGTATAGAAGAAAGGCAAACACAACACATTCAACCTCTGCCACC',\n",
       "  6.18981937068],\n",
       " [9443,\n",
       "  'GGCGTGTCAGGTGGTTGCGGAGCTGGTAAGAATCATATTCTAAGAACTCAGCCACTCAGGTATCCACC',\n",
       "  6.8620580417],\n",
       " [9445,\n",
       "  'CTACACAACTTGGGGCCCCTCTCCTCTCCAGCCCTTCTCCTGTGTGCCTGCCTCCTGCCGCCGCCACC',\n",
       "  6.04939680619],\n",
       " [9553,\n",
       "  'GTTCCGCGTCTGTGCGACCGTCCGTCCCGAGCGCGCAGCCGCGGCAGGCCAGGTCAGAGCAGCCCACC',\n",
       "  6.20381832806],\n",
       " [9863,\n",
       "  'AAGACAGAGCTGAGACAGCCACCCAGGGGGTCCACTCCAGGACAGACTGTGCCAACAAAGAACAGCCACC',\n",
       "  6.32600042281],\n",
       " [9865,\n",
       "  'GACTGGACTTGCAGTGTAAACAGAGACGCTGCAAATTGCTTGTGGACGGTGTAGGCCGCTGCAGGCCACC',\n",
       "  6.29499364359],\n",
       " [9882,\n",
       "  'GGTTGCTGTGGCGGAGTTTGGAGGTTGGAGAGAAATCCAGGTACTCACTAGACTGGTACCTTCTGCCACC',\n",
       "  6.65383718645],\n",
       " [10088,\n",
       "  'GACTACGTGGGTCTGGAGCTGACTGCCGTCCTGACACGTCCTAGAGCTGCAAGTCCTGCCAGAGAGCCACC',\n",
       "  6.22961746109],\n",
       " [10321,\n",
       "  'AGTTGAAAACTTACAGAGTCCTGAGGCTTTCAGACTGAAAAAGGCTTTCTTCTGTCACTGACAATCGCCACC',\n",
       "  6.91605933694],\n",
       " [10323,\n",
       "  'CCACTGAGCAGCCAACCGCAGCCTCTGGCCACAAGGAGAGCGGAGCACAGGAGCAGGAAGCCGCCTACCACC',\n",
       "  7.2237284914],\n",
       " [10436,\n",
       "  'AGAACAGACAGACCTACTGACACAGGGGAGGCTCTGTGAGTACCACACAGTGGGGAGGGGGTGGGGGCCACC',\n",
       "  6.90101088035],\n",
       " [10857,\n",
       "  'GCTGAGCTCTGTTCTCTCCAGCACCTCCCAACCCACTAGTGCCTGGTTCTCTTGCTCCACCAGGAACAAGCCACC',\n",
       "  6.31307852558],\n",
       " [10906,\n",
       "  'ATTTATCCTCTAGCGCTCAGGCCCTGCCGCCATCGCCGCAGATCCAGCGCCCAGAGAGACACCAGAGAACCCACC',\n",
       "  6.34345603507],\n",
       " [11117,\n",
       "  'CAGTCTGCAGTCTACGGCGAGGCACAGGCCAGCCCAGCTCCACGAGGACTGAACAAGGTGCTGTCTCACTGCCACC',\n",
       "  6.5612120675],\n",
       " [11128,\n",
       "  'CGAGGACAGGCCAAACAGTGACAGCCACGTAGAGGATCTGGCAGACAAAGAGACAAGACTTTGGAAGTGACCCACC',\n",
       "  6.49868919644],\n",
       " [11136,\n",
       "  'CCAAACTGCTTCTGTTTTCCAGGTAGCTCAGTGGCATTTCTGAGCAGGGGCCACCCTGACTTCACCTTGGCCCACC',\n",
       "  6.08600583799],\n",
       " [11177,\n",
       "  'ACGTGCAGCCGTTTAAGTCGCGTGGGCGCCTGCGAGGGCTTGGGAGAGCAAGCCGCGGAGAGAACTTGAAGCCACC',\n",
       "  6.8014831226],\n",
       " [11854,\n",
       "  'TCTGAGCCTCCGGCACCGGCCGCGCAGCTGGAGGCGGCGGAGCGGAAGCCTGGGAACTTCAGCCGGCTGGAGCCCCACC',\n",
       "  7.44693346909],\n",
       " [11899,\n",
       "  'TGCGCAGTCGGTGCCATCTTCTACGCCCCTGGGAGCGTTGTGGCTGCTGTTTCCTTCGGCTTTCCTCCTCCTGCTCCACC',\n",
       "  6.67864186826],\n",
       " [12336,\n",
       "  'GACACGGAAGTAGCTCCGAACAGGAAGAGGACGAAAAAAATAACCGTCCGCGACGCCGAGACAAACCGGACCCGCAACCACC',\n",
       "  7.25765683353],\n",
       " [12601,\n",
       "  'GGGGCGCTTTAGGGACTGGACTTGCAGTGTAAACAGAGACGCTGCAAATTGCTTGTGGACGGTGTAGGCCGCTGCAGGCCACC',\n",
       "  6.53141389676],\n",
       " [12715,\n",
       "  'AAACTTACTTCAGTTTGGACAACTACTCACAGCTACTACACAGAGACCCGAACGAGTCACTGATATACACCTGGACCACCACCA',\n",
       "  6.5585262271],\n",
       " [12811,\n",
       "  'GTGACACGGAAGTAGCTCCGAACAGGAAGAGGACGAAAAAAATAACCGTCCGCGACGCCGAGACAAACCGGACCCGCAACCACC',\n",
       "  7.9273343033],\n",
       " [13494,\n",
       "  'ACCTTCAGCAGGAGCCGGTTCCCTGTGTGTGTGTCCGCTCGCCCTCTGCTCCGTCCTGCGGCTGCCCACTGCCCTCCTACGGTCCACC',\n",
       "  6.81142734726],\n",
       " [13974,\n",
       "  'GCTGTAGGGGACCAGCGCGGGTGCGCAGACGAAAGGCGCTCTTTGCCAGCTGAAAGTTCCCACGGAAAAACTACCATCTCCCCTGCCCACC',\n",
       "  6.51410244365],\n",
       " [14143,\n",
       "  'AGCTTCACAAGACTGCATATATAAGGGGCTGGCTGTAGCTGCAGCTGAAGGAGCTGACCAGCCAGCTGACCCCTCACACTCACCTAGCCACC',\n",
       "  6.22536322622],\n",
       " [14242,\n",
       "  'GCGGCCGCGGCGGCAGCAGACCCCAGAGTCAGAAGGAGTGAGAACCCTGACCCCTAATCCCACTGCATCCAGCCAATAGGAGCCCAGCCACC',\n",
       "  6.7583225303],\n",
       " [14284,\n",
       "  'GCAGTGGGCGTCTTGCACGTGCAGCCGTTTAAGTCGCGTGGGCGCCTGCGAGGGCTTGGGAGAGCAAGCCGCGGAGAGAACTTGAAGCCACC',\n",
       "  7.01691101349],\n",
       " [14303,\n",
       "  'CTCGGCTCTGCCCCTCACAGTCTGCAGTCTACGGCGAGGCACAGGCCAGCCCAGCTCCACGAGGACTGAACAAGGTGCTGTCTCACTGCCACC',\n",
       "  7.43153239813],\n",
       " [14382,\n",
       "  'CGCTGAGAGCAGCAAGGCCAGAGTTGAAAACTTACAGAGTCCTGAGGCTTTCAGACTGAAAAAGGCTTTCTTCTGTCACTGACAATCGCCACC',\n",
       "  7.13496046546],\n",
       " [14714,\n",
       "  'AATCTGGGAACTGGCAGCTGTGAGTCCTGGCCCTGCCACTCGACCTCTGGCGGCTAGCGGCGAGGCCCCTTCCTGACCTTCAGGGATCGGCCACC',\n",
       "  6.2864988166],\n",
       " [14890,\n",
       "  'CCAGAGAAGCCTGGACCCACACGCGGGCTAGATCCAGAGACAGTGTCCAGTGCTCCAGCCTAGGAGTCTACGGGGACCGCCTCCCGCGCCGCCACC',\n",
       "  6.97304948589],\n",
       " [14953,\n",
       "  'ACCTACTCTAGGGAGGGGGCTGTGCTGGTTCTGCCTGGGCAGCCCCACGCTGAGGTCGCCTGCGAGGCCGCTGGCCAGGCCTGAGCCTCTGCCACC',\n",
       "  6.35225911082],\n",
       " [15014,\n",
       "  'GGCAGCCGGGACCCAGCCAGCCCTGCGCCTCGCGCCGTCGCGCATGCGTCCTGGTCTTTCTCTAGAGTTGTATATATAGAACATCCTGGAGTCCACC',\n",
       "  6.34736691968],\n",
       " [15129,\n",
       "  'AACAGAGCCACCTTCTGCGTCCTGCTGAGCTCTGTTCTCTCCAGCACCTCCCAACCCACTAGTGCCTGGTTCTCTTGCTCCACCAGGAACAAGCCACC',\n",
       "  6.55431529123],\n",
       " [15131,\n",
       "  'ACAAATAGCCCTGGGCTCTGCAGCTCCACAGGCTCCTGGGGTGGAGTCCAAATCACTCATTGTTTGTGAAAGCTGAGCTCACAGCAAAACAAGCCACC',\n",
       "  6.09889059491],\n",
       " [15366,\n",
       "  'ACCTGACGCAGTGGGCGTCTTGCACGTGCAGCCGTTTAAGTCGCGTGGGCGCCTGCGAGGGCTTGGGAGAGCAAGCCGCGGAGAGAACTTGAAGCCACC',\n",
       "  7.97323902257],\n",
       " [15438,\n",
       "  'CCTCGAAGACAGCTGCTCAGTCTAAGCAAACCCCAGCAGGAAAGCAGGGGTACAGAGAGGAGCCCCCTTGGCACCGCCACCGCACCCTAGGCCACCCACC',\n",
       "  6.36662872331]]"
      ]
     },
     "execution_count": 87,
     "metadata": {},
     "output_type": "execute_result"
    }
   ],
   "source": [
    "index_ccacc_high = []\n",
    "for i,( s, l) in enumerate(zip(seqs, labels)):\n",
    "    if 'CCACC' in s[-6:] and l > 6:\n",
    "        index_ccacc_high.append([i, s, l])\n",
    "\n",
    "index_ccacc_low = []\n",
    "for i,( s, l) in enumerate(zip(seqs, labels)):\n",
    "    if 'CCACC' in s and 'CCACC' not in s[-6:] and l < 2:\n",
    "        index_ccacc_low.append([i, s, l])\n",
    "index_ccacc_high"
   ]
  },
  {
   "cell_type": "code",
   "execution_count": 88,
   "metadata": {
    "scrolled": true
   },
   "outputs": [
    {
     "data": {
      "text/plain": [
       "[[8677,\n",
       "  'CTCCAGGAATGGGTTTGAAGCCGTGGAGGCAGAGGGCAGCGCAGGGTGCCGGGGAAGCTCGGGA',\n",
       "  1.44673042608],\n",
       " [9808,\n",
       "  'AGGATGCCCTGCGCGGGGCGGCGGAGCGGGTGCGTGCGGCGGCGGTTGCGAGAGAGATGAGCCGCGGCG',\n",
       "  0.792572364595],\n",
       " [10009,\n",
       "  'GCCTGTCACCATGTAAGAAGTGAATTTGCTCCTCGTTCGCCTTCTGCCATGATTGTGAGGCCTCTCCAGCC',\n",
       "  1.4869998283],\n",
       " [11035,\n",
       "  'GCTCGGCGAACATGGCGGCGGCGACGGTCGGGCGGGACACTTTACCTGAGCATTGGTCCTACGGGGTGTGCCGGG',\n",
       "  1.30373552398],\n",
       " [11297,\n",
       "  'GGCTCCTCTTCCCTTCTGTAGACCCTTCTCTGTCTTCTTTTACCTTGCAGGATGTGAGGGCAGGCCCCCAGCCCCTC',\n",
       "  1.40957206335],\n",
       " [11799,\n",
       "  'GTCTGTATCAGACATCATGGGAGCAGATCCAGGGCGACATCAAAGGGAAGCATGAGTCTCCAGGACCAGAGGGGCTTGG',\n",
       "  1.48713070327],\n",
       " [11807,\n",
       "  'CTTCTTCCCGGGGCTCTTCGCGCTCTGCACCTGGGCGCTGCGCCGCTCCCAGCCCGGATGGAGCCGCACCGACTGCGTG',\n",
       "  1.49517203059],\n",
       " [12024,\n",
       "  'GTGCGTCACAGAATGGCCTCGGACACCCAGGCAGTCCCTGACGTGTCGGGGAGGAGCCGGGCGCGGAGGCTTTCTTGATC',\n",
       "  1.40015620396],\n",
       " [12057,\n",
       "  'AGTTGGTAAATGACAGTTATGAATAAAGCAAGGGCAGAAAAAAACATGTAGGGGAGAGAATGAGGAACTAGGTCCAGGAG',\n",
       "  1.45540965233],\n",
       " [13219,\n",
       "  'AGACAGAGGGGGCACAGTGCGAGGCTGCAGGGCAGGATGACCTAACAAGGGCCCTGCTATGGCAACAAGAAGGACAGGCACCTGCC',\n",
       "  1.09902955285],\n",
       " [14618,\n",
       "  'AAATGTAGTCACTGTCCCGGAACCTGGGGCAGCGGAGTCCCGTGCGCCCTGTGGTGACAGCTCAGGAGGGTGTGTGCGCTCAGCAGGGGCCAGC',\n",
       "  1.32279123657],\n",
       " [15109,\n",
       "  'AATCATGGATATGGGGCGGGGCTGGAGGACTAGGCACCTCTGCACGTCCTGCCCCGCCGGAAGTGGAGGCCGCGGGCTCTGAGCGGCCCCTGCCCGG',\n",
       "  1.34677229439],\n",
       " [15192,\n",
       "  'GGGAGCCCCGGCGACCCGGGCTTCTGTGAAACATGGCGGTAGGCTGGGACCATAACACAAGCATGACTATATGAAGGAAGAGGAAGGTTTTCCTGAAG',\n",
       "  1.47704573376],\n",
       " [15376,\n",
       "  'AGCTCCCTCGCAGAAAATGGGGCAATCGGGTTTGTTTTCAAGGCAGGACCTGAACAAAATGTAGGACACCTGATCTGTGGGATGAAGGGCGCTGGTAAT',\n",
       "  1.4120106034],\n",
       " [15377,\n",
       "  'ATATATCCGTAGGAATGGAGAGGGACCGGATCTCAGGGCATGGCTCACGCCGCGTTGTCAGGCTGCAAGCCACTGCGAGAGCTGCTCTGATCCCCAAGC',\n",
       "  1.33069149937]]"
      ]
     },
     "execution_count": 88,
     "metadata": {},
     "output_type": "execute_result"
    }
   ],
   "source": [
    "index_atg_high = []\n",
    "for i,( s, l) in enumerate(zip(seqs, labels)):\n",
    "    if 'ATG' not in s and l > 9:\n",
    "        index_atg_high.append([i, s, l])\n",
    "\n",
    "index_atg_low = []\n",
    "for i,( s, l) in enumerate(zip(seqs, labels)):\n",
    "    if 'ATG' in s and l < 1.5:\n",
    "        index_atg_low.append([i, s, l])\n",
    "index_atg_low"
   ]
  },
  {
   "cell_type": "code",
   "execution_count": 105,
   "metadata": {},
   "outputs": [
    {
     "name": "stderr",
     "output_type": "stream",
     "text": [
      "/tmp/ipykernel_125633/2752093334.py:16: MatplotlibDeprecationWarning: Unable to determine Axes to steal space for Colorbar. Using gca(), but will raise in the future. Either provide the *cax* argument to use as the Axes for the Colorbar, provide the *ax* argument to steal space from it, or add *mappable* to an Axes.\n",
      "  cbar = fig.colorbar(mpl.cm.ScalarMappable(norm = norm, cmap = cmap),\n"
     ]
    },
    {
     "data": {
      "image/png": "[encoded data removed]",
      "text/plain": [
       "<Figure size 1440x720 with 2 Axes>"
      ]
     },
     "metadata": {
      "needs_background": "light"
     },
     "output_type": "display_data"
    }
   ],
   "source": [
    "# for (i, s, l) in index_atg_low:\n",
    "#     print(i, s, f'{l:.2f}')\n",
    "i = 15377\n",
    "s, l, a = seqs[i], labels[i], attns[i]\n",
    "# draw_eachlength_head_pepposition(sum_peplength_pepposition, label, savepath = False)\n",
    "fig = plt.figure(figsize = (20, 10))\n",
    "\n",
    "cmap = 'OrRd'\n",
    "sns.heatmap(a.sum(axis = -1).reshape(-1, 1).T[:, -len(s):], cmap = cmap, cbar = False, square = True,\n",
    "        xticklabels = s, yticklabels = '')\n",
    "\n",
    "plt.title(f\"(a) Example 5' UTR with MRL = {l:.2f} with the fine-tuned model\", loc = 'left')\n",
    "plt.ylabel('')\n",
    "\n",
    "norm = mpl.colors.Normalize(vmin = a.min().min(), vmax = a.max().max())\n",
    "cbar = fig.colorbar(mpl.cm.ScalarMappable(norm = norm, cmap = cmap), \n",
    "                orientation='vertical', shrink = 0.1) # , anchor = (-0.2, 0.5)\n",
    "cbar.outline.set_visible(False)\n",
    "\n",
    "plt.savefig(f'MRL{l:.2f}_finetuned.pdf')\n",
    "plt.show()\n",
    "#     break"
   ]
  },
  {
   "cell_type": "code",
   "execution_count": 108,
   "metadata": {
    "scrolled": false
   },
   "outputs": [
    {
     "name": "stderr",
     "output_type": "stream",
     "text": [
      "/tmp/ipykernel_125633/2330363399.py:16: MatplotlibDeprecationWarning: Unable to determine Axes to steal space for Colorbar. Using gca(), but will raise in the future. Either provide the *cax* argument to use as the Axes for the Colorbar, provide the *ax* argument to steal space from it, or add *mappable* to an Axes.\n",
      "  cbar = fig.colorbar(mpl.cm.ScalarMappable(norm = norm, cmap = cmap),\n"
     ]
    },
    {
     "data": {
      "image/png": "[encoded data removed]",
      "text/plain": [
       "<Figure size 504x720 with 2 Axes>"
      ]
     },
     "metadata": {
      "needs_background": "light"
     },
     "output_type": "display_data"
    }
   ],
   "source": [
    "# for (i, s, l) in index_ccacc_high:\n",
    "#     print(i, s, f'{l:.2f}')\n",
    "i = 2743\n",
    "s, l, a = seqs[i], labels[i], attns[i]\n",
    "# draw_eachlength_head_pepposition(sum_peplength_pepposition, label, savepath = False)\n",
    "fig = plt.figure(figsize = (7, 10))\n",
    "\n",
    "cmap = 'OrRd'\n",
    "sns.heatmap(a.sum(axis = -1).reshape(-1, 1).T[:, -len(s):], cmap = cmap, cbar = False, square = True,\n",
    "        xticklabels = s, yticklabels = '')\n",
    "\n",
    "plt.title(f\"(c) Example 5' UTR with MRL = {l:.2f} with the fine-tuned model\", loc = 'left')\n",
    "plt.ylabel('')\n",
    "\n",
    "norm = mpl.colors.Normalize(vmin = a.min().min(), vmax = a.max().max())\n",
    "cbar = fig.colorbar(mpl.cm.ScalarMappable(norm = norm, cmap = cmap), \n",
    "                orientation='vertical', shrink = 0.1) # , anchor = (-0.2, 0.5)\n",
    "cbar.outline.set_visible(False)\n",
    "\n",
    "plt.savefig(f'MRL{l:.2f}_finetuned.pdf')\n",
    "plt.show()\n",
    "#     break"
   ]
  },
  {
   "cell_type": "code",
   "execution_count": 95,
   "metadata": {
    "scrolled": true
   },
   "outputs": [
    {
     "name": "stderr",
     "output_type": "stream",
     "text": [
      "/tmp/ipykernel_82922/4046189214.py:12: MatplotlibDeprecationWarning: Unable to determine Axes to steal space for Colorbar. Using gca(), but will raise in the future. Either provide the *cax* argument to use as the Axes for the Colorbar, provide the *ax* argument to steal space from it, or add *mappable* to an Axes.\n",
      "  cbar = fig.colorbar(mpl.cm.ScalarMappable(norm = norm, cmap = cmap),\n"
     ]
    },
    {
     "data": {
      "image/png": "[encoded data removed]",
      "text/plain": [
       "<Figure size 720x720 with 2 Axes>"
      ]
     },
     "metadata": {
      "needs_background": "light"
     },
     "output_type": "display_data"
    }
   ],
   "source": [
    "# draw_eachlength_head_pepposition(sum_peplength_pepposition, label, savepath = False)\n",
    "fig = plt.figure(figsize = (10, 10))\n",
    "\n",
    "cmap = 'OrRd'\n",
    "sns.heatmap(attns_low.sum(axis = -1).reshape(-1, 1).T[:, -len(seqs_low[0]):], cmap = cmap, cbar = False, square = True,\n",
    "        xticklabels = seqs_low[0], yticklabels = '')\n",
    "\n",
    "plt.title(f\"(a) Example 5' UTR with MRL = {labels_low[0]:.2f} with the finetuned model\", loc = 'left')\n",
    "plt.ylabel('')\n",
    "\n",
    "norm = mpl.colors.Normalize(vmin = attns_low.min().min(), vmax = attns_low.max().max())\n",
    "cbar = fig.colorbar(mpl.cm.ScalarMappable(norm = norm, cmap = cmap), \n",
    "                orientation='vertical', shrink = 0.1) # , anchor = (-0.2, 0.5)\n",
    "cbar.outline.set_visible(False)\n",
    "\n",
    "plt.savefig('MRL0.79_finetuned.pdf')\n",
    "plt.show()"
   ]
  }
 ],
 "metadata": {
  "kernelspec": {
   "display_name": "Python 3",
   "language": "python",
   "name": "python3"
  },
  "language_info": {
   "codemirror_mode": {
    "name": "ipython",
    "version": 3
   },
   "file_extension": ".py",
   "mimetype": "text/x-python",
   "name": "python",
   "nbconvert_exporter": "python",
   "pygments_lexer": "ipython3",
   "version": "3.9.0"
  }
 },
 "nbformat": 4,
 "nbformat_minor": 4
}
